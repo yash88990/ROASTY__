{
 "cells": [
  {
   "cell_type": "markdown",
   "id": "6c774f79",
   "metadata": {},
   "source": [
    "# Library Imports"
   ]
  },
  {
   "cell_type": "code",
   "execution_count": 2,
   "id": "2bdd76c0",
   "metadata": {},
   "outputs": [],
   "source": [
    "import pickle\n",
    "import pandas as pd\n",
    "import numpy as np"
   ]
  },
  {
   "cell_type": "markdown",
   "id": "fa4afb7d",
   "metadata": {},
   "source": [
    "# Merging All Processed Data"
   ]
  },
  {
   "cell_type": "code",
   "execution_count": 3,
   "id": "d4adbedf",
   "metadata": {
    "scrolled": false
   },
   "outputs": [],
   "source": [
    "files_array = [\"FreeCompliments_processed\", \"roast_sentences_processed\", \"toast_sentences_processed\"]\n",
    "numpy_array = []\n",
    "\n",
    "for i in files_array:\n",
    "    file = \"./Processed_Data/\" + i\n",
    "    file1 = open(file, 'rb')\n",
    "    s = pickle.load(file1)\n",
    "    temp = []\n",
    "    for k in s:\n",
    "        for j in k:\n",
    "            temp.append(j)\n",
    "    temp = np.array(temp)\n",
    "    numpy_array.append(temp)\n"
   ]
  },
  {
   "cell_type": "markdown",
   "id": "3bedd6c7",
   "metadata": {},
   "source": [
    "# Creating DataFrames"
   ]
  },
  {
   "cell_type": "code",
   "execution_count": 4,
   "id": "6734208a",
   "metadata": {},
   "outputs": [
    {
     "name": "stdout",
     "output_type": "stream",
     "text": [
      "16875\n",
      "69397\n",
      "19781\n"
     ]
    }
   ],
   "source": [
    "final_sentences = []\n",
    "for i in numpy_array:\n",
    "    print(len(i))\n",
    "    for j in i:\n",
    "        final_sentences.append(j)\n",
    "    \n",
    "final_sentences = np.array(final_sentences)\n",
    "roast_dict = {\"Comments\": numpy_array[1], \"Type\": '0'}\n",
    "roast_dataframe = pd.DataFrame.from_dict(roast_dict)\n",
    "\n",
    "\n",
    "toast_dict = {\"Comments\": numpy_array[2], \"Type\": '1'}\n",
    "toast_dataframe = pd.DataFrame.from_dict(toast_dict)\n",
    "\n",
    "free_compliments_dict = {\"Comments\":numpy_array[0], \"Type\": '1'}\n",
    "free_compliments_dataframe = pd.DataFrame.from_dict(free_compliments_dict)"
   ]
  },
  {
   "cell_type": "markdown",
   "id": "2b9e639f",
   "metadata": {},
   "source": [
    "# Downsampling of Roast DataFrame"
   ]
  },
  {
   "cell_type": "code",
   "execution_count": 8,
   "id": "ea7d6427",
   "metadata": {},
   "outputs": [],
   "source": [
    "roast_dataframe = roast_dataframe.sample(toast_dataframe.shape[0] + free_compliments_dataframe.shape[0])"
   ]
  },
  {
   "cell_type": "markdown",
   "id": "9beb55c7",
   "metadata": {},
   "source": [
    "# Concatenating All DataFrames"
   ]
  },
  {
   "cell_type": "code",
   "execution_count": 9,
   "id": "5f5bb6f9",
   "metadata": {},
   "outputs": [],
   "source": [
    "df = pd.concat([roast_dataframe, toast_dataframe, free_compliments_dataframe])\n",
    "df = df.sample(frac = 1)"
   ]
  },
  {
   "cell_type": "code",
   "execution_count": 13,
   "id": "0620e300",
   "metadata": {},
   "outputs": [
    {
     "data": {
      "text/plain": [
       "(73312, 2)"
      ]
     },
     "execution_count": 13,
     "metadata": {},
     "output_type": "execute_result"
    }
   ],
   "source": [
    "df.shape"
   ]
  },
  {
   "cell_type": "code",
   "execution_count": 10,
   "id": "c68838ab",
   "metadata": {
    "scrolled": true
   },
   "outputs": [],
   "source": [
    "Com = np.array(df[\"Comments\"])\n",
    "type_ = np.array(df[\"Type\"])"
   ]
  },
  {
   "cell_type": "code",
   "execution_count": 11,
   "id": "6986a234",
   "metadata": {},
   "outputs": [
    {
     "data": {
      "text/plain": [
       "array(['0', '1', '0', ..., '0', '0', '1'], dtype=object)"
      ]
     },
     "execution_count": 11,
     "metadata": {},
     "output_type": "execute_result"
    }
   ],
   "source": [
    "type_"
   ]
  },
  {
   "cell_type": "code",
   "execution_count": 12,
   "id": "a41a1d70",
   "metadata": {},
   "outputs": [],
   "source": [
    "final_dataset_dict = {\"Comments\" : Com, \"Type\" : type_}\n",
    "final_dataframe = pd.DataFrame.from_dict(final_dataset_dict)"
   ]
  },
  {
   "cell_type": "code",
   "execution_count": 14,
   "id": "39503055",
   "metadata": {},
   "outputs": [],
   "source": [
    "final_dataframe.to_csv(\"./Final_Dataset/final_dataset\")"
   ]
  }
 ],
 "metadata": {
  "kernelspec": {
   "display_name": "Python 3 (ipykernel)",
   "language": "python",
   "name": "python3"
  },
  "language_info": {
   "codemirror_mode": {
    "name": "ipython",
    "version": 3
   },
   "file_extension": ".py",
   "mimetype": "text/x-python",
   "name": "python",
   "nbconvert_exporter": "python",
   "pygments_lexer": "ipython3",
   "version": "3.10.12"
  }
 },
 "nbformat": 4,
 "nbformat_minor": 5
}
